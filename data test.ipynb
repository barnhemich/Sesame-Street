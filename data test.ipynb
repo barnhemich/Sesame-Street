{
 "cells": [
  {
   "cell_type": "code",
   "execution_count": 4,
   "id": "e678e19a",
   "metadata": {},
   "outputs": [],
   "source": [
    "import numpy as np\n",
    "import json"
   ]
  },
  {
   "cell_type": "code",
   "execution_count": 6,
   "id": "6c0a4a2f",
   "metadata": {},
   "outputs": [],
   "source": [
    "with open(\"F:\\pdf_parses\\cs\\pdf_parses_0.jsonl\", 'r') as json_file:\n",
    "    json_list = list(json_file)\n",
    "\n",
    "# for json_str in json_list:\n",
    "#     result = json.loads(json_str)\n",
    "#     print(f\"result: {result}\")\n",
    "#     print(isinstance(result, dict))"
   ]
  },
  {
   "cell_type": "code",
   "execution_count": 11,
   "id": "9be860fe",
   "metadata": {},
   "outputs": [],
   "source": [
    "import pandas as pd    \n",
    "jsonObj = pd.read_json(path_or_buf=\"F:\\pdf_parses\\cs\\pdf_parses_0.jsonl\", lines=True)"
   ]
  }
 ],
 "metadata": {
  "kernelspec": {
   "display_name": "Python 3 (ipykernel)",
   "language": "python",
   "name": "python3"
  },
  "language_info": {
   "codemirror_mode": {
    "name": "ipython",
    "version": 3
   },
   "file_extension": ".py",
   "mimetype": "text/x-python",
   "name": "python",
   "nbconvert_exporter": "python",
   "pygments_lexer": "ipython3",
   "version": "3.9.12"
  }
 },
 "nbformat": 4,
 "nbformat_minor": 5
}
